{
 "cells": [
  {
   "cell_type": "markdown",
   "id": "305430fb-8d19-476b-8cfe-21a551660297",
   "metadata": {},
   "source": [
    "# Analayse Shannon diversity index and Faith's phylogenetic index characteristics\n",
    "\n",
    "This Jupyter Notebook contains main functions analyse alpha diversity dynamic behavior "
   ]
  },
  {
   "cell_type": "markdown",
   "id": "9106789c-6efe-41b9-8c23-c81b549ee756",
   "metadata": {},
   "source": [
    "### RANDOM WALK TESTS\n",
    "\n",
    "In a random walk time series, the value at each time point is equal to the value at the previous time point plus a random shock or disturbance term. The shock term is usually assumed to be normally distributed and uncorrelated with the previous value, which means that it is completely unpredictable.\n",
    "\n",
    "Random walk time series are interesting because they do not have a fixed mean or variance over time. Instead, they tend to drift or wander around randomly, sometimes moving up and sometimes moving down. This makes them difficult to model and forecast accurately, and they are often used as a benchmark for testing other time series models.\n",
    "\n",
    "1. The ADF (Augmented Dickey-Fuller) test is a statistical test used to determine if a time series is stationary or non-stationary. Stationarity is an important property of a time series, as it means that the statistical properties of the series do not change over time.\n",
    "\n",
    "    The ADF test works by estimating the relationship between each observation in a time series and the previous observation. Specifically, the test involves regressing the series on its lagged values and testing whether the coefficient on the lagged values is significantly different from 1. If the coefficient is significantly less than 1, it suggests that the series is stationary, whereas if the coefficient is not significantly different from 1, it suggests that the series is non-stationary.\n",
    "\n",
    "    The ADF test can also be augmented to include additional lagged terms in the regression, which can help to account for other sources of non-stationarity, such as trends or seasonality.\n",
    "\n",
    "    In summary, the ADF test is a method for testing stationarity in a time series by estimating the relationship between each observation and the previous observation. It can be used to identify the presence of trends, seasonality, or other non-stationary features in a time series. If the p-value from the Augmented Dickey-Fuller (ADF) test is less than 0.05, it means that there is strong evidence to reject the null hypothesis that the time series has a unit root, and therefore the time series is stationary.\n",
    "        \n",
    "1. The KPSS (Kwiatkowski-Phillips-Schmidt-Shin) test is a statistical test used to determine if a time series is stationary or non-stationary. Stationarity is an important property of a time series, as it means that the statistical properties of the series do not change over time.\n",
    "\n",
    "    The KPSS test works by comparing the trend component of a time series to the overall variability of the series. Specifically, the test involves estimating the trend of the time series and calculating the sum of the squared deviations of the series from this trend. This sum is then compared to a reference value based on the variance of the series, with the null hypothesis being that the series is stationary.\n",
    "\n",
    "    If the sum of the squared deviations is greater than the reference value, the null hypothesis is rejected and the series is considered to be non-stationary. This suggests the presence of a trend or other non-stationary features in the series.\n",
    "\n",
    "    Conversely, if the sum of the squared deviations is less than the reference value, the null hypothesis is not rejected and the series is considered to be stationary. This suggests that the statistical properties of the series are consistent over time and that there is no evidence of non-stationarity.\n",
    "\n",
    "    In summary, the KPSS test is a method for testing stationarity in a time series by comparing the trend component of the series to its overall variability. It can be used to identify the presence of trends, seasonality, or other non-stationary features in a time series.\n",
    "        \n",
    "        \n",
    "#### null hypothesis \n",
    "\n",
    "* ADF (Augmented Dickey-Fuller) Test: The null hypothesis is also that the time series has a unit root and is non-stationary.\n",
    "\n",
    "* KPSS (Kwiatkowski-Phillips-Schmidt-Shin) Test: The null hypothesis is that the time series is stationary."
   ]
  },
  {
   "cell_type": "code",
   "execution_count": 2,
   "id": "901c7837-1f0d-441d-baa9-eb7f8b981e82",
   "metadata": {},
   "outputs": [],
   "source": [
    "import pandas as pd\n",
    "import numpy as np\n",
    "import warnings\n",
    "import matplotlib.pyplot as plt\n",
    "import seaborn as sns\n",
    "\n",
    "import statsmodels.api as sm\n",
    "from statsmodels.graphics.tsaplots import plot_acf, plot_pacf\n",
    "from statsmodels.tsa.stattools import adfuller, kpss\n",
    "\n",
    "from sklearn.linear_model import LinearRegression\n",
    "from statsmodels.stats.diagnostic import acorr_ljungbox\n",
    "\n",
    "import scipy.stats as stats\n",
    "import matplotlib as mpl"
   ]
  },
  {
   "cell_type": "markdown",
   "id": "83b6790e-3dbc-4ddd-9a65-7ccf21866e95",
   "metadata": {},
   "source": [
    "# I. SHANNON DIVERSITY INDEX"
   ]
  },
  {
   "cell_type": "code",
   "execution_count": 4,
   "id": "e68a2b1f-7606-49ed-8e62-06b058127984",
   "metadata": {},
   "outputs": [],
   "source": [
    "wd =  './data/alpha_diversity/shannon/'\n",
    "\n",
    "male_alpha_df = pd.read_csv(wd + 'male_shannon_entropy.csv')#.iloc[:150]\n",
    "female_alpha_df = pd.read_csv(wd + 'female_shannon_entropy.csv')#.iloc[:150]\n",
    "donorA_alpha_df = pd.read_csv(wd + 'donorA_shannon_entropy.csv')#.iloc[:150]\n",
    "donorB_alpha_df = pd.read_csv(wd + 'donorB_shannon_entropy.csv')#.iloc[:150]\n",
    "\n",
    "datasets = [male_alpha_df, female_alpha_df, donorA_alpha_df, donorB_alpha_df.iloc[:150]]\n",
    "subjects = ['male', 'female', 'donorA', 'donorB']"
   ]
  },
  {
   "cell_type": "markdown",
   "id": "23d30ad5-6a8a-4f89-b243-4759c68e7edd",
   "metadata": {},
   "source": [
    "### Ljung box test for serial correlation"
   ]
  },
  {
   "cell_type": "code",
   "execution_count": 8,
   "id": "7ee91301-8a54-4600-854e-3783b275c0b1",
   "metadata": {},
   "outputs": [],
   "source": [
    "def remove_trend(ts):\n",
    "    \n",
    "    lr = LinearRegression()\n",
    "    X = ts.index.values.reshape(len(ts), 1)\n",
    "    lr.fit(X, ts.values)\n",
    "    trend = lr.predict(X)\n",
    "\n",
    "    feature_detrended = ts.values - trend\n",
    "    \n",
    "    return feature_detrended\n",
    "\n",
    "def autocorrelation_presence(ts):\n",
    "    \n",
    "    detrended_ts = remove_trend(ts)\n",
    "    \n",
    "    # Ljung-Box test for white noise\n",
    "    ljung_box_results = acorr_ljungbox(detrended_ts, lags=30)\n",
    "    ljung_box_results_df = ljung_box_results.reset_index()\n",
    "\n",
    "    if ljung_box_results_df[ljung_box_results_df['lb_pvalue'] > 0.05].shape[0] == 0:\n",
    "        print('series is autocorrelated')\n",
    "    elif ljung_box_results_df[ljung_box_results_df['lb_pvalue'] < 0.05].shape[0] == 0:\n",
    "        print('series is not autocorrelated') "
   ]
  },
  {
   "cell_type": "code",
   "execution_count": 9,
   "id": "f804e18d-4567-4c3c-8c13-3707f736925a",
   "metadata": {},
   "outputs": [
    {
     "name": "stdout",
     "output_type": "stream",
     "text": [
      "series is autocorrelated\n",
      "series is autocorrelated\n",
      "series is autocorrelated\n",
      "series is autocorrelated\n"
     ]
    }
   ],
   "source": [
    "for dataset in datasets:\n",
    "    autocorrelation_presence(dataset)"
   ]
  },
  {
   "cell_type": "code",
   "execution_count": 10,
   "id": "b133cf64-f811-4429-a259-c40584623e5d",
   "metadata": {},
   "outputs": [
    {
     "name": "stderr",
     "output_type": "stream",
     "text": [
      "/home/MCB/zkarwowska/anaconda3/envs/time_series_env/lib/python3.7/site-packages/statsmodels/tsa/stattools.py:2023: InterpolationWarning: The test statistic is outside of the range of p-values available in the\n",
      "look-up table. The actual p-value is greater than the p-value returned.\n",
      "\n",
      "  warn_msg.format(direction=\"greater\"), InterpolationWarning\n",
      "/home/MCB/zkarwowska/anaconda3/envs/time_series_env/lib/python3.7/site-packages/statsmodels/tsa/stattools.py:2023: InterpolationWarning: The test statistic is outside of the range of p-values available in the\n",
      "look-up table. The actual p-value is greater than the p-value returned.\n",
      "\n",
      "  warn_msg.format(direction=\"greater\"), InterpolationWarning\n",
      "/home/MCB/zkarwowska/anaconda3/envs/time_series_env/lib/python3.7/site-packages/statsmodels/tsa/stattools.py:2023: InterpolationWarning: The test statistic is outside of the range of p-values available in the\n",
      "look-up table. The actual p-value is greater than the p-value returned.\n",
      "\n",
      "  warn_msg.format(direction=\"greater\"), InterpolationWarning\n",
      "/home/MCB/zkarwowska/anaconda3/envs/time_series_env/lib/python3.7/site-packages/statsmodels/tsa/stattools.py:2023: InterpolationWarning: The test statistic is outside of the range of p-values available in the\n",
      "look-up table. The actual p-value is greater than the p-value returned.\n",
      "\n",
      "  warn_msg.format(direction=\"greater\"), InterpolationWarning\n"
     ]
    }
   ],
   "source": [
    "def test_unit_root(ts, subject):\n",
    "\n",
    "    detrend_ts = remove_trend(ts)\n",
    "\n",
    "    result_ADF = adfuller(ts, maxlag=30)\n",
    "    result_KPSS = kpss(np.log(ts), nlags=30)\n",
    "\n",
    "\n",
    "    unit_root_df = pd.DataFrame([result_ADF[1], result_KPSS[1]], columns = ['pvalue'])\n",
    "    unit_root_df['test'] = [ 'ADF', 'KPSS']\n",
    "    unit_root_df['pvalue'] = np.round(unit_root_df['pvalue'], 3)\n",
    "    unit_root_df['subject'] = subject\n",
    "    \n",
    "    return unit_root_df\n",
    "\n",
    "\n",
    "DF = []\n",
    "for dataset, subject in zip(datasets, subjects):\n",
    "    res_df = test_unit_root(dataset, subject)\n",
    "    DF.append(res_df)\n",
    "    \n",
    "UNIT_ROOT_RESULTS_DF = pd.concat(DF)"
   ]
  },
  {
   "cell_type": "code",
   "execution_count": 11,
   "id": "76753495-ba43-4d13-bfa8-41cb2cd17e23",
   "metadata": {},
   "outputs": [
    {
     "data": {
      "text/html": [
       "<div>\n",
       "<style scoped>\n",
       "    .dataframe tbody tr th:only-of-type {\n",
       "        vertical-align: middle;\n",
       "    }\n",
       "\n",
       "    .dataframe tbody tr th {\n",
       "        vertical-align: top;\n",
       "    }\n",
       "\n",
       "    .dataframe thead th {\n",
       "        text-align: right;\n",
       "    }\n",
       "</style>\n",
       "<table border=\"1\" class=\"dataframe\">\n",
       "  <thead>\n",
       "    <tr style=\"text-align: right;\">\n",
       "      <th></th>\n",
       "      <th>pvalue</th>\n",
       "      <th>test</th>\n",
       "      <th>subject</th>\n",
       "    </tr>\n",
       "  </thead>\n",
       "  <tbody>\n",
       "    <tr>\n",
       "      <th>0</th>\n",
       "      <td>0.000</td>\n",
       "      <td>ADF</td>\n",
       "      <td>male</td>\n",
       "    </tr>\n",
       "    <tr>\n",
       "      <th>1</th>\n",
       "      <td>0.100</td>\n",
       "      <td>KPSS</td>\n",
       "      <td>male</td>\n",
       "    </tr>\n",
       "    <tr>\n",
       "      <th>0</th>\n",
       "      <td>0.001</td>\n",
       "      <td>ADF</td>\n",
       "      <td>female</td>\n",
       "    </tr>\n",
       "    <tr>\n",
       "      <th>1</th>\n",
       "      <td>0.100</td>\n",
       "      <td>KPSS</td>\n",
       "      <td>female</td>\n",
       "    </tr>\n",
       "    <tr>\n",
       "      <th>0</th>\n",
       "      <td>0.000</td>\n",
       "      <td>ADF</td>\n",
       "      <td>donorA</td>\n",
       "    </tr>\n",
       "    <tr>\n",
       "      <th>1</th>\n",
       "      <td>0.100</td>\n",
       "      <td>KPSS</td>\n",
       "      <td>donorA</td>\n",
       "    </tr>\n",
       "    <tr>\n",
       "      <th>0</th>\n",
       "      <td>0.000</td>\n",
       "      <td>ADF</td>\n",
       "      <td>donorB</td>\n",
       "    </tr>\n",
       "    <tr>\n",
       "      <th>1</th>\n",
       "      <td>0.100</td>\n",
       "      <td>KPSS</td>\n",
       "      <td>donorB</td>\n",
       "    </tr>\n",
       "  </tbody>\n",
       "</table>\n",
       "</div>"
      ],
      "text/plain": [
       "   pvalue  test subject\n",
       "0   0.000   ADF    male\n",
       "1   0.100  KPSS    male\n",
       "0   0.001   ADF  female\n",
       "1   0.100  KPSS  female\n",
       "0   0.000   ADF  donorA\n",
       "1   0.100  KPSS  donorA\n",
       "0   0.000   ADF  donorB\n",
       "1   0.100  KPSS  donorB"
      ]
     },
     "execution_count": 11,
     "metadata": {},
     "output_type": "execute_result"
    }
   ],
   "source": [
    "UNIT_ROOT_RESULTS_DF"
   ]
  },
  {
   "cell_type": "markdown",
   "id": "71eb9ed3-e514-41c4-89d1-6a3fc0fb7233",
   "metadata": {},
   "source": [
    "# II. Faith's PD index"
   ]
  },
  {
   "cell_type": "code",
   "execution_count": 5,
   "id": "779e005e-7e4b-4cc6-9442-62cddd41edaf",
   "metadata": {},
   "outputs": [],
   "source": [
    "#faiths\n",
    "wd =  './data/alpha_diversity/faiths_pd/'\n",
    "\n",
    "male_alpha_df = pd.read_csv(wd + 'male_faiths_pd.csv')\n",
    "female_alpha_df = pd.read_csv(wd + 'female_faiths_pd.tsv', sep='\\t', index_col = [0])#.iloc[40:].reset_index(drop=True)\n",
    "donorA_alpha_df = pd.read_csv(wd + 'donorA_faiths_pd.tsv', sep='\\t', index_col = [0])\n",
    "donorB_alpha_df = pd.read_csv(wd + 'donorB_faiths_pd.tsv', sep='\\t', index_col = [0])\n",
    "\n",
    "datasets = [male_alpha_df, female_alpha_df, donorA_alpha_df, donorB_alpha_df]\n",
    "subjects = ['male', 'female', 'donorA', 'donorB']"
   ]
  },
  {
   "cell_type": "code",
   "execution_count": 13,
   "id": "39619f78-c800-45cc-9c01-8655d7d985d2",
   "metadata": {},
   "outputs": [
    {
     "name": "stdout",
     "output_type": "stream",
     "text": [
      "series is autocorrelated\n",
      "series is autocorrelated\n",
      "series is autocorrelated\n",
      "series is autocorrelated\n"
     ]
    }
   ],
   "source": [
    "for dataset in datasets:\n",
    "    autocorrelation_presence(dataset)"
   ]
  },
  {
   "cell_type": "code",
   "execution_count": 15,
   "id": "4de27e2f-84d5-4f06-9884-76b7e55395f0",
   "metadata": {},
   "outputs": [
    {
     "name": "stderr",
     "output_type": "stream",
     "text": [
      "/home/MCB/zkarwowska/anaconda3/envs/time_series_env/lib/python3.7/site-packages/statsmodels/tsa/stattools.py:2023: InterpolationWarning: The test statistic is outside of the range of p-values available in the\n",
      "look-up table. The actual p-value is greater than the p-value returned.\n",
      "\n",
      "  warn_msg.format(direction=\"greater\"), InterpolationWarning\n",
      "/home/MCB/zkarwowska/anaconda3/envs/time_series_env/lib/python3.7/site-packages/statsmodels/tsa/stattools.py:2023: InterpolationWarning: The test statistic is outside of the range of p-values available in the\n",
      "look-up table. The actual p-value is greater than the p-value returned.\n",
      "\n",
      "  warn_msg.format(direction=\"greater\"), InterpolationWarning\n"
     ]
    },
    {
     "data": {
      "text/html": [
       "<div>\n",
       "<style scoped>\n",
       "    .dataframe tbody tr th:only-of-type {\n",
       "        vertical-align: middle;\n",
       "    }\n",
       "\n",
       "    .dataframe tbody tr th {\n",
       "        vertical-align: top;\n",
       "    }\n",
       "\n",
       "    .dataframe thead th {\n",
       "        text-align: right;\n",
       "    }\n",
       "</style>\n",
       "<table border=\"1\" class=\"dataframe\">\n",
       "  <thead>\n",
       "    <tr style=\"text-align: right;\">\n",
       "      <th></th>\n",
       "      <th>pvalue</th>\n",
       "      <th>test</th>\n",
       "      <th>subject</th>\n",
       "    </tr>\n",
       "  </thead>\n",
       "  <tbody>\n",
       "    <tr>\n",
       "      <th>0</th>\n",
       "      <td>0.000</td>\n",
       "      <td>ADF</td>\n",
       "      <td>male</td>\n",
       "    </tr>\n",
       "    <tr>\n",
       "      <th>1</th>\n",
       "      <td>0.019</td>\n",
       "      <td>KPSS</td>\n",
       "      <td>male</td>\n",
       "    </tr>\n",
       "    <tr>\n",
       "      <th>0</th>\n",
       "      <td>0.002</td>\n",
       "      <td>ADF</td>\n",
       "      <td>female</td>\n",
       "    </tr>\n",
       "    <tr>\n",
       "      <th>1</th>\n",
       "      <td>0.075</td>\n",
       "      <td>KPSS</td>\n",
       "      <td>female</td>\n",
       "    </tr>\n",
       "    <tr>\n",
       "      <th>0</th>\n",
       "      <td>0.000</td>\n",
       "      <td>ADF</td>\n",
       "      <td>donorA</td>\n",
       "    </tr>\n",
       "    <tr>\n",
       "      <th>1</th>\n",
       "      <td>0.100</td>\n",
       "      <td>KPSS</td>\n",
       "      <td>donorA</td>\n",
       "    </tr>\n",
       "    <tr>\n",
       "      <th>0</th>\n",
       "      <td>0.000</td>\n",
       "      <td>ADF</td>\n",
       "      <td>donorB</td>\n",
       "    </tr>\n",
       "    <tr>\n",
       "      <th>1</th>\n",
       "      <td>0.100</td>\n",
       "      <td>KPSS</td>\n",
       "      <td>donorB</td>\n",
       "    </tr>\n",
       "  </tbody>\n",
       "</table>\n",
       "</div>"
      ],
      "text/plain": [
       "   pvalue  test subject\n",
       "0   0.000   ADF    male\n",
       "1   0.019  KPSS    male\n",
       "0   0.002   ADF  female\n",
       "1   0.075  KPSS  female\n",
       "0   0.000   ADF  donorA\n",
       "1   0.100  KPSS  donorA\n",
       "0   0.000   ADF  donorB\n",
       "1   0.100  KPSS  donorB"
      ]
     },
     "execution_count": 15,
     "metadata": {},
     "output_type": "execute_result"
    }
   ],
   "source": [
    "DF = []\n",
    "for dataset, subject in zip(datasets, subjects):\n",
    "    res_df = test_unit_root(dataset, subject)\n",
    "    DF.append(res_df)\n",
    "    \n",
    "UNIT_ROOT_RESULTS_DF = pd.concat(DF)\n",
    "UNIT_ROOT_RESULTS_DF"
   ]
  }
 ],
 "metadata": {
  "kernelspec": {
   "display_name": "time_series_env",
   "language": "python",
   "name": "time_series_env"
  },
  "language_info": {
   "codemirror_mode": {
    "name": "ipython",
    "version": 3
   },
   "file_extension": ".py",
   "mimetype": "text/x-python",
   "name": "python",
   "nbconvert_exporter": "python",
   "pygments_lexer": "ipython3",
   "version": "3.7.12"
  }
 },
 "nbformat": 4,
 "nbformat_minor": 5
}
