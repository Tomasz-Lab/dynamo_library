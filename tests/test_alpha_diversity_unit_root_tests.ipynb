{
 "cells": [
  {
   "cell_type": "code",
   "outputs": [],
   "source": [
    "import sys\n",
    "import os\n",
    "import pandas as pd\n",
    "\n",
    "sys.path.append(os.path.abspath('../'))\n",
    "\n",
    "from dynamo.alpha_diversity_unit_root_tests import AlphaDiversityUnitRootTests"
   ],
   "metadata": {
    "collapsed": false,
    "ExecuteTime": {
     "end_time": "2024-08-04T20:41:07.229574Z",
     "start_time": "2024-08-04T20:41:06.242744Z"
    }
   },
   "id": "784f8d1a292cda7b",
   "execution_count": 1
  },
  {
   "cell_type": "code",
   "outputs": [],
   "source": [
    "wd =  './data/data_original/alpha_diversity/shannon/'\n",
    "\n",
    "male_alpha_df = pd.read_csv(wd + 'male_shannon_entropy.csv')#.iloc[:150]\n",
    "female_alpha_df = pd.read_csv(wd + 'female_shannon_entropy.csv')#.iloc[:150]\n",
    "donorA_alpha_df = pd.read_csv(wd + 'donorA_shannon_entropy.csv')#.iloc[:150]\n",
    "donorB_alpha_df = pd.read_csv(wd + 'donorB_shannon_entropy.csv')#.iloc[:150]\n",
    "\n",
    "datasets = [male_alpha_df, female_alpha_df, donorA_alpha_df, donorB_alpha_df.iloc[:150]]\n",
    "subjects = ['male', 'female', 'donorA', 'donorB']"
   ],
   "metadata": {
    "collapsed": false,
    "ExecuteTime": {
     "end_time": "2024-08-04T20:41:09.371283Z",
     "start_time": "2024-08-04T20:41:09.346351Z"
    }
   },
   "id": "516cfbcfd6cc7d78",
   "execution_count": 2
  },
  {
   "cell_type": "code",
   "outputs": [
    {
     "name": "stdout",
     "output_type": "stream",
     "text": [
      "series is autocorrelated\n",
      "series is autocorrelated\n",
      "series is autocorrelated\n",
      "series is autocorrelated\n"
     ]
    }
   ],
   "source": [
    "for dataset in datasets:\n",
    "    AlphaDiversityUnitRootTests.autocorrelation_presence(dataset)"
   ],
   "metadata": {
    "collapsed": false,
    "ExecuteTime": {
     "end_time": "2024-08-04T20:41:13.618379Z",
     "start_time": "2024-08-04T20:41:13.416598Z"
    }
   },
   "id": "6c188c1530070295",
   "execution_count": 3
  },
  {
   "cell_type": "code",
   "outputs": [
    {
     "name": "stderr",
     "output_type": "stream",
     "text": [
      "D:\\AGH-Infa\\Sano\\dynamo_library\\dynamo\\alpha_diversity_unit_root_tests.py:38: InterpolationWarning: The test statistic is outside of the range of p-values available in the\n",
      "look-up table. The actual p-value is greater than the p-value returned.\n",
      "\n",
      "  result_KPSS = kpss(np.log(ts), nlags=30)\n",
      "D:\\AGH-Infa\\Sano\\dynamo_library\\dynamo\\alpha_diversity_unit_root_tests.py:38: InterpolationWarning: The test statistic is outside of the range of p-values available in the\n",
      "look-up table. The actual p-value is greater than the p-value returned.\n",
      "\n",
      "  result_KPSS = kpss(np.log(ts), nlags=30)\n",
      "D:\\AGH-Infa\\Sano\\dynamo_library\\dynamo\\alpha_diversity_unit_root_tests.py:38: InterpolationWarning: The test statistic is outside of the range of p-values available in the\n",
      "look-up table. The actual p-value is greater than the p-value returned.\n",
      "\n",
      "  result_KPSS = kpss(np.log(ts), nlags=30)\n",
      "D:\\AGH-Infa\\Sano\\dynamo_library\\dynamo\\alpha_diversity_unit_root_tests.py:38: InterpolationWarning: The test statistic is outside of the range of p-values available in the\n",
      "look-up table. The actual p-value is greater than the p-value returned.\n",
      "\n",
      "  result_KPSS = kpss(np.log(ts), nlags=30)\n"
     ]
    }
   ],
   "source": [
    "DF = []\n",
    "for dataset, subject in zip(datasets, subjects):\n",
    "    res_df = AlphaDiversityUnitRootTests.test_unit_root(dataset, subject)\n",
    "    DF.append(res_df)\n",
    "    \n",
    "UNIT_ROOT_RESULTS_DF = pd.concat(DF)"
   ],
   "metadata": {
    "collapsed": false,
    "ExecuteTime": {
     "end_time": "2024-08-04T20:41:55.028008Z",
     "start_time": "2024-08-04T20:41:54.807842Z"
    }
   },
   "id": "25cdf779c200ccbf",
   "execution_count": 4
  },
  {
   "cell_type": "code",
   "outputs": [
    {
     "data": {
      "text/plain": "   pvalue  test subject\n0   0.000   ADF    male\n1   0.100  KPSS    male\n0   0.001   ADF  female\n1   0.100  KPSS  female\n0   0.000   ADF  donorA\n1   0.100  KPSS  donorA\n0   0.000   ADF  donorB\n1   0.100  KPSS  donorB",
      "text/html": "<div>\n<style scoped>\n    .dataframe tbody tr th:only-of-type {\n        vertical-align: middle;\n    }\n\n    .dataframe tbody tr th {\n        vertical-align: top;\n    }\n\n    .dataframe thead th {\n        text-align: right;\n    }\n</style>\n<table border=\"1\" class=\"dataframe\">\n  <thead>\n    <tr style=\"text-align: right;\">\n      <th></th>\n      <th>pvalue</th>\n      <th>test</th>\n      <th>subject</th>\n    </tr>\n  </thead>\n  <tbody>\n    <tr>\n      <th>0</th>\n      <td>0.000</td>\n      <td>ADF</td>\n      <td>male</td>\n    </tr>\n    <tr>\n      <th>1</th>\n      <td>0.100</td>\n      <td>KPSS</td>\n      <td>male</td>\n    </tr>\n    <tr>\n      <th>0</th>\n      <td>0.001</td>\n      <td>ADF</td>\n      <td>female</td>\n    </tr>\n    <tr>\n      <th>1</th>\n      <td>0.100</td>\n      <td>KPSS</td>\n      <td>female</td>\n    </tr>\n    <tr>\n      <th>0</th>\n      <td>0.000</td>\n      <td>ADF</td>\n      <td>donorA</td>\n    </tr>\n    <tr>\n      <th>1</th>\n      <td>0.100</td>\n      <td>KPSS</td>\n      <td>donorA</td>\n    </tr>\n    <tr>\n      <th>0</th>\n      <td>0.000</td>\n      <td>ADF</td>\n      <td>donorB</td>\n    </tr>\n    <tr>\n      <th>1</th>\n      <td>0.100</td>\n      <td>KPSS</td>\n      <td>donorB</td>\n    </tr>\n  </tbody>\n</table>\n</div>"
     },
     "execution_count": 5,
     "metadata": {},
     "output_type": "execute_result"
    }
   ],
   "source": [
    "UNIT_ROOT_RESULTS_DF"
   ],
   "metadata": {
    "collapsed": false,
    "ExecuteTime": {
     "end_time": "2024-08-04T20:41:56.490371Z",
     "start_time": "2024-08-04T20:41:56.477397Z"
    }
   },
   "id": "5ee0dce881fb98de",
   "execution_count": 5
  },
  {
   "cell_type": "code",
   "outputs": [],
   "source": [
    "#faiths\n",
    "wd =  './data/data_original/alpha_diversity/faiths_pd/'\n",
    "\n",
    "male_alpha_df = pd.read_csv(wd + 'male_faiths_pd.csv')\n",
    "female_alpha_df = pd.read_csv(wd + 'female_faiths_pd.tsv', sep='\\t', index_col = [0])#.iloc[40:].reset_index(drop=True)\n",
    "donorA_alpha_df = pd.read_csv(wd + 'donorA_faiths_pd.tsv', sep='\\t', index_col = [0])\n",
    "donorB_alpha_df = pd.read_csv(wd + 'donorB_faiths_pd.tsv', sep='\\t', index_col = [0])\n",
    "\n",
    "datasets = [male_alpha_df, female_alpha_df, donorA_alpha_df, donorB_alpha_df]\n",
    "subjects = ['male', 'female', 'donorA', 'donorB']"
   ],
   "metadata": {
    "collapsed": false,
    "ExecuteTime": {
     "end_time": "2024-08-04T20:43:13.990307Z",
     "start_time": "2024-08-04T20:43:13.967390Z"
    }
   },
   "id": "6aa09a72648ba21b",
   "execution_count": 9
  },
  {
   "cell_type": "code",
   "outputs": [
    {
     "name": "stdout",
     "output_type": "stream",
     "text": [
      "series is autocorrelated\n",
      "series is autocorrelated\n",
      "series is autocorrelated\n",
      "series is autocorrelated\n"
     ]
    }
   ],
   "source": [
    "for dataset in datasets:\n",
    "    AlphaDiversityUnitRootTests.autocorrelation_presence(dataset)"
   ],
   "metadata": {
    "collapsed": false,
    "ExecuteTime": {
     "end_time": "2024-08-04T20:43:14.644356Z",
     "start_time": "2024-08-04T20:43:14.618431Z"
    }
   },
   "id": "cf3e01ec44d607f9",
   "execution_count": 10
  },
  {
   "cell_type": "code",
   "outputs": [
    {
     "name": "stderr",
     "output_type": "stream",
     "text": [
      "D:\\AGH-Infa\\Sano\\dynamo_library\\dynamo\\alpha_diversity_unit_root_tests.py:38: InterpolationWarning: The test statistic is outside of the range of p-values available in the\n",
      "look-up table. The actual p-value is greater than the p-value returned.\n",
      "\n",
      "  result_KPSS = kpss(np.log(ts), nlags=30)\n",
      "D:\\AGH-Infa\\Sano\\dynamo_library\\dynamo\\alpha_diversity_unit_root_tests.py:38: InterpolationWarning: The test statistic is outside of the range of p-values available in the\n",
      "look-up table. The actual p-value is greater than the p-value returned.\n",
      "\n",
      "  result_KPSS = kpss(np.log(ts), nlags=30)\n"
     ]
    },
    {
     "data": {
      "text/plain": "   pvalue  test subject\n0   0.000   ADF    male\n1   0.019  KPSS    male\n0   0.002   ADF  female\n1   0.075  KPSS  female\n0   0.000   ADF  donorA\n1   0.100  KPSS  donorA\n0   0.000   ADF  donorB\n1   0.100  KPSS  donorB",
      "text/html": "<div>\n<style scoped>\n    .dataframe tbody tr th:only-of-type {\n        vertical-align: middle;\n    }\n\n    .dataframe tbody tr th {\n        vertical-align: top;\n    }\n\n    .dataframe thead th {\n        text-align: right;\n    }\n</style>\n<table border=\"1\" class=\"dataframe\">\n  <thead>\n    <tr style=\"text-align: right;\">\n      <th></th>\n      <th>pvalue</th>\n      <th>test</th>\n      <th>subject</th>\n    </tr>\n  </thead>\n  <tbody>\n    <tr>\n      <th>0</th>\n      <td>0.000</td>\n      <td>ADF</td>\n      <td>male</td>\n    </tr>\n    <tr>\n      <th>1</th>\n      <td>0.019</td>\n      <td>KPSS</td>\n      <td>male</td>\n    </tr>\n    <tr>\n      <th>0</th>\n      <td>0.002</td>\n      <td>ADF</td>\n      <td>female</td>\n    </tr>\n    <tr>\n      <th>1</th>\n      <td>0.075</td>\n      <td>KPSS</td>\n      <td>female</td>\n    </tr>\n    <tr>\n      <th>0</th>\n      <td>0.000</td>\n      <td>ADF</td>\n      <td>donorA</td>\n    </tr>\n    <tr>\n      <th>1</th>\n      <td>0.100</td>\n      <td>KPSS</td>\n      <td>donorA</td>\n    </tr>\n    <tr>\n      <th>0</th>\n      <td>0.000</td>\n      <td>ADF</td>\n      <td>donorB</td>\n    </tr>\n    <tr>\n      <th>1</th>\n      <td>0.100</td>\n      <td>KPSS</td>\n      <td>donorB</td>\n    </tr>\n  </tbody>\n</table>\n</div>"
     },
     "execution_count": 11,
     "metadata": {},
     "output_type": "execute_result"
    }
   ],
   "source": [
    "DF = []\n",
    "for dataset, subject in zip(datasets, subjects):\n",
    "    res_df = AlphaDiversityUnitRootTests.test_unit_root(dataset, subject)\n",
    "    DF.append(res_df)\n",
    "    \n",
    "UNIT_ROOT_RESULTS_DF = pd.concat(DF)\n",
    "UNIT_ROOT_RESULTS_DF"
   ],
   "metadata": {
    "collapsed": false,
    "ExecuteTime": {
     "end_time": "2024-08-04T20:43:15.221684Z",
     "start_time": "2024-08-04T20:43:15.117961Z"
    }
   },
   "id": "c6af7c06b355b622",
   "execution_count": 11
  },
  {
   "cell_type": "code",
   "outputs": [],
   "source": [],
   "metadata": {
    "collapsed": false
   },
   "id": "d43da6ffc0d7556a"
  }
 ],
 "metadata": {
  "kernelspec": {
   "display_name": "Python 3",
   "language": "python",
   "name": "python3"
  },
  "language_info": {
   "codemirror_mode": {
    "name": "ipython",
    "version": 2
   },
   "file_extension": ".py",
   "mimetype": "text/x-python",
   "name": "python",
   "nbconvert_exporter": "python",
   "pygments_lexer": "ipython2",
   "version": "2.7.6"
  }
 },
 "nbformat": 4,
 "nbformat_minor": 5
}
